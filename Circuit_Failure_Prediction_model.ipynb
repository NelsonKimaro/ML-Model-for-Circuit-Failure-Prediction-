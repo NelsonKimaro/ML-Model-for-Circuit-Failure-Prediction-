{
 "cells": [
  {
   "cell_type": "markdown",
   "id": "07a18019-43ae-4831-8eaf-6de5d7ba06b1",
   "metadata": {},
   "source": [
    "**Objective:** Build a machine learning model to predict circuit failure based on temperature values, voltage values, and radiation measurements of different circuit components."
   ]
  },
  {
   "cell_type": "markdown",
   "id": "60895ccc4e6c69f3",
   "metadata": {},
   "source": [
    "### Importing the Libraries"
   ]
  },
  {
   "cell_type": "markdown",
   "id": "ac76b172-02d0-4239-a6de-373356744727",
   "metadata": {},
   "source": [
    "### Predicting Circuit Failure"
   ]
  },
  {
   "cell_type": "code",
   "execution_count": 1,
   "id": "initial_id",
   "metadata": {
    "ExecuteTime": {
     "end_time": "2024-09-30T09:28:36.763447Z",
     "start_time": "2024-09-30T09:28:36.706276Z"
    }
   },
   "outputs": [],
   "source": [
    "# Suppress warnings from libraries, helps to keep the output clean by ignoring unnecessary warnings.\n",
    "import warnings\n",
    "warnings.filterwarnings('ignore')\n",
    "\n",
    "# Importing pandas to work with dataframes\n",
    "import pandas as pd\n",
    "\n",
    "# MinMaxScaler is used to scale/normalize the features to a fixed range, usually [0,1].\n",
    "from sklearn.preprocessing import MinMaxScaler \n",
    "\n",
    "# train_test_split is used to split the dataset into training and testing sets in a random manner.\n",
    "# StratifiedKFold is used for k-fold cross-validation, preserving the percentage of samples for each class,\n",
    "# making it useful for imbalanced datasets.\n",
    "from sklearn.model_selection import train_test_split, StratifiedKFold\n",
    "\n",
    "# PCA (Principal Component Analysis) is used for dimensionality reduction.\n",
    "# It helps in reducing the number of features while retaining most of the variance.\n",
    "from sklearn.decomposition import PCA\n",
    "\n",
    "# Importing machine learning models for classification:\n",
    "# RandomForestClassifier - an ensemble method that builds multiple decision trees and merges them.\n",
    "# LogisticRegression - a simple linear model for binary classification problems.\n",
    "# KNeighborsClassifier - a k-nearest neighbors classifier that classifies data points based on the majority class of neighbors.\n",
    "from sklearn.ensemble import RandomForestClassifier\n",
    "from sklearn.linear_model import LogisticRegression\n",
    "from sklearn.neighbors import KNeighborsClassifier\n",
    "\n",
    "# Importing various evaluation metrics for model performance:\n",
    "from sklearn.metrics import accuracy_score, f1_score, precision_score, recall_score\n",
    "\n",
    "# Matplotlib's pyplot is imported to create various types of visualizations such as plots and graphs.\n",
    "from matplotlib import pyplot as plt\n"
   ]
  },
  {
   "cell_type": "markdown",
   "id": "a6a725bf46902426",
   "metadata": {},
   "source": [
    "# 1. Exploratory Data Analysis"
   ]
  },
  {
   "cell_type": "markdown",
   "id": "e21d2b5bd58fbbff",
   "metadata": {},
   "source": [
    "\n",
    "### Loading the data"
   ]
  },
  {
   "cell_type": "code",
   "execution_count": 2,
   "id": "257f5d4a0027cc09",
   "metadata": {
    "ExecuteTime": {
     "end_time": "2024-09-30T09:28:36.932343Z",
     "start_time": "2024-09-30T09:28:36.861469Z"
    }
   },
   "outputs": [],
   "source": [
    "df = pd.read_csv('dataset.csv')"
   ]
  },
  {
   "cell_type": "markdown",
   "id": "899e3c15d83505be",
   "metadata": {},
   "source": [
    "### First 10 rows of the dataset"
   ]
  },
  {
   "cell_type": "code",
   "execution_count": 3,
   "id": "a37a1f23094efe52",
   "metadata": {
    "ExecuteTime": {
     "end_time": "2024-09-30T09:28:36.964317Z",
     "start_time": "2024-09-30T09:28:36.933554Z"
    }
   },
   "outputs": [
    {
     "data": {
      "text/html": [
       "<div>\n",
       "<style scoped>\n",
       "    .dataframe tbody tr th:only-of-type {\n",
       "        vertical-align: middle;\n",
       "    }\n",
       "\n",
       "    .dataframe tbody tr th {\n",
       "        vertical-align: top;\n",
       "    }\n",
       "\n",
       "    .dataframe thead th {\n",
       "        text-align: right;\n",
       "    }\n",
       "</style>\n",
       "<table border=\"1\" class=\"dataframe\">\n",
       "  <thead>\n",
       "    <tr style=\"text-align: right;\">\n",
       "      <th></th>\n",
       "      <th>v1</th>\n",
       "      <th>v2</th>\n",
       "      <th>v3</th>\n",
       "      <th>v4</th>\n",
       "      <th>v5</th>\n",
       "      <th>t1</th>\n",
       "      <th>t2</th>\n",
       "      <th>annotation</th>\n",
       "      <th>radiation rate</th>\n",
       "      <th>timestamp</th>\n",
       "    </tr>\n",
       "  </thead>\n",
       "  <tbody>\n",
       "    <tr>\n",
       "      <th>0</th>\n",
       "      <td>1.90</td>\n",
       "      <td>1.44</td>\n",
       "      <td>1.12</td>\n",
       "      <td>0.68</td>\n",
       "      <td>3.39</td>\n",
       "      <td>28.25</td>\n",
       "      <td>28.00</td>\n",
       "      <td>0</td>\n",
       "      <td>5137</td>\n",
       "      <td>1.580981e+09</td>\n",
       "    </tr>\n",
       "    <tr>\n",
       "      <th>1</th>\n",
       "      <td>1.78</td>\n",
       "      <td>1.29</td>\n",
       "      <td>1.00</td>\n",
       "      <td>0.71</td>\n",
       "      <td>3.37</td>\n",
       "      <td>27.25</td>\n",
       "      <td>27.50</td>\n",
       "      <td>0</td>\n",
       "      <td>5137</td>\n",
       "      <td>1.580981e+09</td>\n",
       "    </tr>\n",
       "    <tr>\n",
       "      <th>2</th>\n",
       "      <td>1.90</td>\n",
       "      <td>1.39</td>\n",
       "      <td>1.12</td>\n",
       "      <td>0.73</td>\n",
       "      <td>3.37</td>\n",
       "      <td>27.50</td>\n",
       "      <td>27.50</td>\n",
       "      <td>0</td>\n",
       "      <td>5137</td>\n",
       "      <td>1.580981e+09</td>\n",
       "    </tr>\n",
       "    <tr>\n",
       "      <th>3</th>\n",
       "      <td>1.78</td>\n",
       "      <td>1.29</td>\n",
       "      <td>1.12</td>\n",
       "      <td>0.68</td>\n",
       "      <td>3.39</td>\n",
       "      <td>27.75</td>\n",
       "      <td>27.75</td>\n",
       "      <td>0</td>\n",
       "      <td>5137</td>\n",
       "      <td>1.580981e+09</td>\n",
       "    </tr>\n",
       "    <tr>\n",
       "      <th>4</th>\n",
       "      <td>1.88</td>\n",
       "      <td>1.44</td>\n",
       "      <td>1.03</td>\n",
       "      <td>0.68</td>\n",
       "      <td>3.30</td>\n",
       "      <td>28.00</td>\n",
       "      <td>27.50</td>\n",
       "      <td>0</td>\n",
       "      <td>5137</td>\n",
       "      <td>1.580981e+09</td>\n",
       "    </tr>\n",
       "    <tr>\n",
       "      <th>5</th>\n",
       "      <td>1.78</td>\n",
       "      <td>1.34</td>\n",
       "      <td>1.00</td>\n",
       "      <td>0.71</td>\n",
       "      <td>3.37</td>\n",
       "      <td>28.00</td>\n",
       "      <td>28.25</td>\n",
       "      <td>0</td>\n",
       "      <td>5137</td>\n",
       "      <td>1.580981e+09</td>\n",
       "    </tr>\n",
       "    <tr>\n",
       "      <th>6</th>\n",
       "      <td>1.78</td>\n",
       "      <td>1.29</td>\n",
       "      <td>1.00</td>\n",
       "      <td>0.73</td>\n",
       "      <td>3.37</td>\n",
       "      <td>28.50</td>\n",
       "      <td>27.50</td>\n",
       "      <td>0</td>\n",
       "      <td>5137</td>\n",
       "      <td>1.580981e+09</td>\n",
       "    </tr>\n",
       "    <tr>\n",
       "      <th>7</th>\n",
       "      <td>1.83</td>\n",
       "      <td>1.39</td>\n",
       "      <td>1.05</td>\n",
       "      <td>0.71</td>\n",
       "      <td>3.37</td>\n",
       "      <td>28.00</td>\n",
       "      <td>28.00</td>\n",
       "      <td>0</td>\n",
       "      <td>5137</td>\n",
       "      <td>1.580981e+09</td>\n",
       "    </tr>\n",
       "    <tr>\n",
       "      <th>8</th>\n",
       "      <td>1.83</td>\n",
       "      <td>1.39</td>\n",
       "      <td>1.05</td>\n",
       "      <td>0.71</td>\n",
       "      <td>3.37</td>\n",
       "      <td>28.00</td>\n",
       "      <td>28.00</td>\n",
       "      <td>0</td>\n",
       "      <td>5137</td>\n",
       "      <td>1.580981e+09</td>\n",
       "    </tr>\n",
       "    <tr>\n",
       "      <th>9</th>\n",
       "      <td>1.83</td>\n",
       "      <td>1.39</td>\n",
       "      <td>1.03</td>\n",
       "      <td>0.73</td>\n",
       "      <td>3.34</td>\n",
       "      <td>28.00</td>\n",
       "      <td>28.00</td>\n",
       "      <td>0</td>\n",
       "      <td>5137</td>\n",
       "      <td>1.580981e+09</td>\n",
       "    </tr>\n",
       "  </tbody>\n",
       "</table>\n",
       "</div>"
      ],
      "text/plain": [
       "     v1    v2    v3    v4    v5     t1     t2  annotation  radiation rate  \\\n",
       "0  1.90  1.44  1.12  0.68  3.39  28.25  28.00           0            5137   \n",
       "1  1.78  1.29  1.00  0.71  3.37  27.25  27.50           0            5137   \n",
       "2  1.90  1.39  1.12  0.73  3.37  27.50  27.50           0            5137   \n",
       "3  1.78  1.29  1.12  0.68  3.39  27.75  27.75           0            5137   \n",
       "4  1.88  1.44  1.03  0.68  3.30  28.00  27.50           0            5137   \n",
       "5  1.78  1.34  1.00  0.71  3.37  28.00  28.25           0            5137   \n",
       "6  1.78  1.29  1.00  0.73  3.37  28.50  27.50           0            5137   \n",
       "7  1.83  1.39  1.05  0.71  3.37  28.00  28.00           0            5137   \n",
       "8  1.83  1.39  1.05  0.71  3.37  28.00  28.00           0            5137   \n",
       "9  1.83  1.39  1.03  0.73  3.34  28.00  28.00           0            5137   \n",
       "\n",
       "      timestamp  \n",
       "0  1.580981e+09  \n",
       "1  1.580981e+09  \n",
       "2  1.580981e+09  \n",
       "3  1.580981e+09  \n",
       "4  1.580981e+09  \n",
       "5  1.580981e+09  \n",
       "6  1.580981e+09  \n",
       "7  1.580981e+09  \n",
       "8  1.580981e+09  \n",
       "9  1.580981e+09  "
      ]
     },
     "execution_count": 3,
     "metadata": {},
     "output_type": "execute_result"
    }
   ],
   "source": [
    "df.head(10)"
   ]
  },
  {
   "attachments": {},
   "cell_type": "markdown",
   "id": "7c0323f5-1991-479c-8fff-9d4d49add75f",
   "metadata": {},
   "source": [
    "### Middle rows of the dataset"
   ]
  },
  {
   "cell_type": "code",
   "execution_count": 4,
   "id": "aec65b08-2a33-4148-a6a4-d1c9f83e08a1",
   "metadata": {},
   "outputs": [
    {
     "data": {
      "text/html": [
       "<div>\n",
       "<style scoped>\n",
       "    .dataframe tbody tr th:only-of-type {\n",
       "        vertical-align: middle;\n",
       "    }\n",
       "\n",
       "    .dataframe tbody tr th {\n",
       "        vertical-align: top;\n",
       "    }\n",
       "\n",
       "    .dataframe thead th {\n",
       "        text-align: right;\n",
       "    }\n",
       "</style>\n",
       "<table border=\"1\" class=\"dataframe\">\n",
       "  <thead>\n",
       "    <tr style=\"text-align: right;\">\n",
       "      <th></th>\n",
       "      <th>v1</th>\n",
       "      <th>v2</th>\n",
       "      <th>v3</th>\n",
       "      <th>v4</th>\n",
       "      <th>v5</th>\n",
       "      <th>t1</th>\n",
       "      <th>t2</th>\n",
       "      <th>annotation</th>\n",
       "      <th>radiation rate</th>\n",
       "      <th>timestamp</th>\n",
       "    </tr>\n",
       "  </thead>\n",
       "  <tbody>\n",
       "    <tr>\n",
       "      <th>19557</th>\n",
       "      <td>1.98</td>\n",
       "      <td>1.44</td>\n",
       "      <td>1.22</td>\n",
       "      <td>0.66</td>\n",
       "      <td>3.59</td>\n",
       "      <td>51.50</td>\n",
       "      <td>44.75</td>\n",
       "      <td>0</td>\n",
       "      <td>16966</td>\n",
       "      <td>1.581070e+09</td>\n",
       "    </tr>\n",
       "    <tr>\n",
       "      <th>19558</th>\n",
       "      <td>1.78</td>\n",
       "      <td>1.51</td>\n",
       "      <td>1.17</td>\n",
       "      <td>1.22</td>\n",
       "      <td>3.66</td>\n",
       "      <td>51.50</td>\n",
       "      <td>44.75</td>\n",
       "      <td>0</td>\n",
       "      <td>16966</td>\n",
       "      <td>1.581070e+09</td>\n",
       "    </tr>\n",
       "    <tr>\n",
       "      <th>19559</th>\n",
       "      <td>2.03</td>\n",
       "      <td>1.54</td>\n",
       "      <td>1.10</td>\n",
       "      <td>0.71</td>\n",
       "      <td>3.56</td>\n",
       "      <td>51.75</td>\n",
       "      <td>44.75</td>\n",
       "      <td>0</td>\n",
       "      <td>16966</td>\n",
       "      <td>1.581070e+09</td>\n",
       "    </tr>\n",
       "    <tr>\n",
       "      <th>19560</th>\n",
       "      <td>1.88</td>\n",
       "      <td>1.39</td>\n",
       "      <td>1.00</td>\n",
       "      <td>0.61</td>\n",
       "      <td>3.39</td>\n",
       "      <td>51.75</td>\n",
       "      <td>44.75</td>\n",
       "      <td>1</td>\n",
       "      <td>16966</td>\n",
       "      <td>1.581070e+09</td>\n",
       "    </tr>\n",
       "    <tr>\n",
       "      <th>19561</th>\n",
       "      <td>2.12</td>\n",
       "      <td>1.66</td>\n",
       "      <td>1.00</td>\n",
       "      <td>0.66</td>\n",
       "      <td>3.59</td>\n",
       "      <td>51.75</td>\n",
       "      <td>45.00</td>\n",
       "      <td>1</td>\n",
       "      <td>16966</td>\n",
       "      <td>1.581070e+09</td>\n",
       "    </tr>\n",
       "    <tr>\n",
       "      <th>...</th>\n",
       "      <td>...</td>\n",
       "      <td>...</td>\n",
       "      <td>...</td>\n",
       "      <td>...</td>\n",
       "      <td>...</td>\n",
       "      <td>...</td>\n",
       "      <td>...</td>\n",
       "      <td>...</td>\n",
       "      <td>...</td>\n",
       "      <td>...</td>\n",
       "    </tr>\n",
       "    <tr>\n",
       "      <th>19695</th>\n",
       "      <td>2.03</td>\n",
       "      <td>1.54</td>\n",
       "      <td>1.10</td>\n",
       "      <td>0.85</td>\n",
       "      <td>3.66</td>\n",
       "      <td>54.25</td>\n",
       "      <td>49.75</td>\n",
       "      <td>1</td>\n",
       "      <td>16966</td>\n",
       "      <td>1.581071e+09</td>\n",
       "    </tr>\n",
       "    <tr>\n",
       "      <th>19696</th>\n",
       "      <td>2.00</td>\n",
       "      <td>1.54</td>\n",
       "      <td>1.10</td>\n",
       "      <td>0.66</td>\n",
       "      <td>3.96</td>\n",
       "      <td>54.25</td>\n",
       "      <td>49.75</td>\n",
       "      <td>1</td>\n",
       "      <td>16966</td>\n",
       "      <td>1.581071e+09</td>\n",
       "    </tr>\n",
       "    <tr>\n",
       "      <th>19697</th>\n",
       "      <td>2.12</td>\n",
       "      <td>1.71</td>\n",
       "      <td>1.32</td>\n",
       "      <td>0.93</td>\n",
       "      <td>4.00</td>\n",
       "      <td>54.25</td>\n",
       "      <td>49.75</td>\n",
       "      <td>1</td>\n",
       "      <td>16966</td>\n",
       "      <td>1.581071e+09</td>\n",
       "    </tr>\n",
       "    <tr>\n",
       "      <th>19698</th>\n",
       "      <td>2.10</td>\n",
       "      <td>1.71</td>\n",
       "      <td>1.10</td>\n",
       "      <td>0.93</td>\n",
       "      <td>3.81</td>\n",
       "      <td>54.25</td>\n",
       "      <td>50.00</td>\n",
       "      <td>1</td>\n",
       "      <td>16966</td>\n",
       "      <td>1.581071e+09</td>\n",
       "    </tr>\n",
       "    <tr>\n",
       "      <th>19699</th>\n",
       "      <td>2.00</td>\n",
       "      <td>1.71</td>\n",
       "      <td>1.12</td>\n",
       "      <td>0.88</td>\n",
       "      <td>3.34</td>\n",
       "      <td>54.25</td>\n",
       "      <td>49.75</td>\n",
       "      <td>1</td>\n",
       "      <td>16966</td>\n",
       "      <td>1.581071e+09</td>\n",
       "    </tr>\n",
       "  </tbody>\n",
       "</table>\n",
       "<p>143 rows × 10 columns</p>\n",
       "</div>"
      ],
      "text/plain": [
       "         v1    v2    v3    v4    v5     t1     t2  annotation  radiation rate  \\\n",
       "19557  1.98  1.44  1.22  0.66  3.59  51.50  44.75           0           16966   \n",
       "19558  1.78  1.51  1.17  1.22  3.66  51.50  44.75           0           16966   \n",
       "19559  2.03  1.54  1.10  0.71  3.56  51.75  44.75           0           16966   \n",
       "19560  1.88  1.39  1.00  0.61  3.39  51.75  44.75           1           16966   \n",
       "19561  2.12  1.66  1.00  0.66  3.59  51.75  45.00           1           16966   \n",
       "...     ...   ...   ...   ...   ...    ...    ...         ...             ...   \n",
       "19695  2.03  1.54  1.10  0.85  3.66  54.25  49.75           1           16966   \n",
       "19696  2.00  1.54  1.10  0.66  3.96  54.25  49.75           1           16966   \n",
       "19697  2.12  1.71  1.32  0.93  4.00  54.25  49.75           1           16966   \n",
       "19698  2.10  1.71  1.10  0.93  3.81  54.25  50.00           1           16966   \n",
       "19699  2.00  1.71  1.12  0.88  3.34  54.25  49.75           1           16966   \n",
       "\n",
       "          timestamp  \n",
       "19557  1.581070e+09  \n",
       "19558  1.581070e+09  \n",
       "19559  1.581070e+09  \n",
       "19560  1.581070e+09  \n",
       "19561  1.581070e+09  \n",
       "...             ...  \n",
       "19695  1.581071e+09  \n",
       "19696  1.581071e+09  \n",
       "19697  1.581071e+09  \n",
       "19698  1.581071e+09  \n",
       "19699  1.581071e+09  \n",
       "\n",
       "[143 rows x 10 columns]"
      ]
     },
     "execution_count": 4,
     "metadata": {},
     "output_type": "execute_result"
    }
   ],
   "source": [
    "df.iloc[19557:19700]"
   ]
  },
  {
   "cell_type": "markdown",
   "id": "70b5e117265192dc",
   "metadata": {},
   "source": [
    "### Last 10 rows of the dataset"
   ]
  },
  {
   "cell_type": "code",
   "execution_count": 5,
   "id": "7ae8e2779df3b532",
   "metadata": {
    "ExecuteTime": {
     "end_time": "2024-09-30T09:28:36.975108Z",
     "start_time": "2024-09-30T09:28:36.965653Z"
    }
   },
   "outputs": [
    {
     "data": {
      "text/html": [
       "<div>\n",
       "<style scoped>\n",
       "    .dataframe tbody tr th:only-of-type {\n",
       "        vertical-align: middle;\n",
       "    }\n",
       "\n",
       "    .dataframe tbody tr th {\n",
       "        vertical-align: top;\n",
       "    }\n",
       "\n",
       "    .dataframe thead th {\n",
       "        text-align: right;\n",
       "    }\n",
       "</style>\n",
       "<table border=\"1\" class=\"dataframe\">\n",
       "  <thead>\n",
       "    <tr style=\"text-align: right;\">\n",
       "      <th></th>\n",
       "      <th>v1</th>\n",
       "      <th>v2</th>\n",
       "      <th>v3</th>\n",
       "      <th>v4</th>\n",
       "      <th>v5</th>\n",
       "      <th>t1</th>\n",
       "      <th>t2</th>\n",
       "      <th>annotation</th>\n",
       "      <th>radiation rate</th>\n",
       "      <th>timestamp</th>\n",
       "    </tr>\n",
       "  </thead>\n",
       "  <tbody>\n",
       "    <tr>\n",
       "      <th>19790</th>\n",
       "      <td>2.51</td>\n",
       "      <td>1.71</td>\n",
       "      <td>2.05</td>\n",
       "      <td>1.32</td>\n",
       "      <td>2.88</td>\n",
       "      <td>56.00</td>\n",
       "      <td>53.75</td>\n",
       "      <td>1</td>\n",
       "      <td>16966</td>\n",
       "      <td>1.581071e+09</td>\n",
       "    </tr>\n",
       "    <tr>\n",
       "      <th>19791</th>\n",
       "      <td>2.86</td>\n",
       "      <td>1.71</td>\n",
       "      <td>1.07</td>\n",
       "      <td>0.85</td>\n",
       "      <td>0.95</td>\n",
       "      <td>56.00</td>\n",
       "      <td>54.75</td>\n",
       "      <td>1</td>\n",
       "      <td>16966</td>\n",
       "      <td>1.581071e+09</td>\n",
       "    </tr>\n",
       "    <tr>\n",
       "      <th>19792</th>\n",
       "      <td>3.10</td>\n",
       "      <td>1.78</td>\n",
       "      <td>1.20</td>\n",
       "      <td>0.93</td>\n",
       "      <td>1.15</td>\n",
       "      <td>56.00</td>\n",
       "      <td>56.00</td>\n",
       "      <td>1</td>\n",
       "      <td>16966</td>\n",
       "      <td>1.581071e+09</td>\n",
       "    </tr>\n",
       "    <tr>\n",
       "      <th>19793</th>\n",
       "      <td>3.30</td>\n",
       "      <td>2.39</td>\n",
       "      <td>1.00</td>\n",
       "      <td>1.00</td>\n",
       "      <td>1.10</td>\n",
       "      <td>56.00</td>\n",
       "      <td>57.50</td>\n",
       "      <td>1</td>\n",
       "      <td>16966</td>\n",
       "      <td>1.581071e+09</td>\n",
       "    </tr>\n",
       "    <tr>\n",
       "      <th>19794</th>\n",
       "      <td>3.08</td>\n",
       "      <td>1.98</td>\n",
       "      <td>1.25</td>\n",
       "      <td>1.07</td>\n",
       "      <td>1.25</td>\n",
       "      <td>55.75</td>\n",
       "      <td>59.50</td>\n",
       "      <td>1</td>\n",
       "      <td>16966</td>\n",
       "      <td>1.581071e+09</td>\n",
       "    </tr>\n",
       "    <tr>\n",
       "      <th>19795</th>\n",
       "      <td>3.03</td>\n",
       "      <td>1.88</td>\n",
       "      <td>1.20</td>\n",
       "      <td>1.32</td>\n",
       "      <td>1.15</td>\n",
       "      <td>55.50</td>\n",
       "      <td>61.25</td>\n",
       "      <td>1</td>\n",
       "      <td>16966</td>\n",
       "      <td>1.581071e+09</td>\n",
       "    </tr>\n",
       "    <tr>\n",
       "      <th>19796</th>\n",
       "      <td>3.17</td>\n",
       "      <td>2.39</td>\n",
       "      <td>1.00</td>\n",
       "      <td>1.00</td>\n",
       "      <td>1.25</td>\n",
       "      <td>55.25</td>\n",
       "      <td>63.50</td>\n",
       "      <td>1</td>\n",
       "      <td>16966</td>\n",
       "      <td>1.581071e+09</td>\n",
       "    </tr>\n",
       "    <tr>\n",
       "      <th>19797</th>\n",
       "      <td>3.10</td>\n",
       "      <td>2.15</td>\n",
       "      <td>1.22</td>\n",
       "      <td>1.32</td>\n",
       "      <td>1.32</td>\n",
       "      <td>55.25</td>\n",
       "      <td>65.25</td>\n",
       "      <td>1</td>\n",
       "      <td>16966</td>\n",
       "      <td>1.581071e+09</td>\n",
       "    </tr>\n",
       "    <tr>\n",
       "      <th>19798</th>\n",
       "      <td>2.95</td>\n",
       "      <td>2.12</td>\n",
       "      <td>1.32</td>\n",
       "      <td>1.12</td>\n",
       "      <td>1.15</td>\n",
       "      <td>55.00</td>\n",
       "      <td>67.00</td>\n",
       "      <td>1</td>\n",
       "      <td>16966</td>\n",
       "      <td>1.581071e+09</td>\n",
       "    </tr>\n",
       "    <tr>\n",
       "      <th>19799</th>\n",
       "      <td>3.08</td>\n",
       "      <td>1.88</td>\n",
       "      <td>1.32</td>\n",
       "      <td>1.32</td>\n",
       "      <td>1.56</td>\n",
       "      <td>54.75</td>\n",
       "      <td>68.75</td>\n",
       "      <td>1</td>\n",
       "      <td>16966</td>\n",
       "      <td>1.581071e+09</td>\n",
       "    </tr>\n",
       "  </tbody>\n",
       "</table>\n",
       "</div>"
      ],
      "text/plain": [
       "         v1    v2    v3    v4    v5     t1     t2  annotation  radiation rate  \\\n",
       "19790  2.51  1.71  2.05  1.32  2.88  56.00  53.75           1           16966   \n",
       "19791  2.86  1.71  1.07  0.85  0.95  56.00  54.75           1           16966   \n",
       "19792  3.10  1.78  1.20  0.93  1.15  56.00  56.00           1           16966   \n",
       "19793  3.30  2.39  1.00  1.00  1.10  56.00  57.50           1           16966   \n",
       "19794  3.08  1.98  1.25  1.07  1.25  55.75  59.50           1           16966   \n",
       "19795  3.03  1.88  1.20  1.32  1.15  55.50  61.25           1           16966   \n",
       "19796  3.17  2.39  1.00  1.00  1.25  55.25  63.50           1           16966   \n",
       "19797  3.10  2.15  1.22  1.32  1.32  55.25  65.25           1           16966   \n",
       "19798  2.95  2.12  1.32  1.12  1.15  55.00  67.00           1           16966   \n",
       "19799  3.08  1.88  1.32  1.32  1.56  54.75  68.75           1           16966   \n",
       "\n",
       "          timestamp  \n",
       "19790  1.581071e+09  \n",
       "19791  1.581071e+09  \n",
       "19792  1.581071e+09  \n",
       "19793  1.581071e+09  \n",
       "19794  1.581071e+09  \n",
       "19795  1.581071e+09  \n",
       "19796  1.581071e+09  \n",
       "19797  1.581071e+09  \n",
       "19798  1.581071e+09  \n",
       "19799  1.581071e+09  "
      ]
     },
     "execution_count": 5,
     "metadata": {},
     "output_type": "execute_result"
    }
   ],
   "source": [
    "df.tail(10)"
   ]
  },
  {
   "cell_type": "markdown",
   "id": "c43fd5022c347a87",
   "metadata": {},
   "source": [
    "### Information about the dataset"
   ]
  },
  {
   "cell_type": "code",
   "execution_count": 6,
   "id": "ee096b24e365a1b",
   "metadata": {
    "ExecuteTime": {
     "end_time": "2024-09-30T09:28:36.997140Z",
     "start_time": "2024-09-30T09:28:36.977543Z"
    }
   },
   "outputs": [
    {
     "name": "stdout",
     "output_type": "stream",
     "text": [
      "<class 'pandas.core.frame.DataFrame'>\n",
      "RangeIndex: 19800 entries, 0 to 19799\n",
      "Data columns (total 10 columns):\n",
      " #   Column          Non-Null Count  Dtype  \n",
      "---  ------          --------------  -----  \n",
      " 0   v1              19800 non-null  float64\n",
      " 1   v2              19800 non-null  float64\n",
      " 2   v3              19800 non-null  float64\n",
      " 3   v4              19800 non-null  float64\n",
      " 4   v5              19800 non-null  float64\n",
      " 5   t1              19800 non-null  float64\n",
      " 6   t2              19800 non-null  float64\n",
      " 7   annotation      19800 non-null  int64  \n",
      " 8   radiation rate  19800 non-null  int64  \n",
      " 9   timestamp       19800 non-null  float64\n",
      "dtypes: float64(8), int64(2)\n",
      "memory usage: 1.5 MB\n"
     ]
    }
   ],
   "source": [
    "df.info()"
   ]
  },
  {
   "cell_type": "markdown",
   "id": "fc9baf806b694657",
   "metadata": {},
   "source": [
    "### Description of the dataset"
   ]
  },
  {
   "cell_type": "code",
   "execution_count": 7,
   "id": "1d00cd61585eaffc",
   "metadata": {
    "ExecuteTime": {
     "end_time": "2024-09-30T09:28:37.029675Z",
     "start_time": "2024-09-30T09:28:36.997970Z"
    }
   },
   "outputs": [
    {
     "data": {
      "text/html": [
       "<div>\n",
       "<style scoped>\n",
       "    .dataframe tbody tr th:only-of-type {\n",
       "        vertical-align: middle;\n",
       "    }\n",
       "\n",
       "    .dataframe tbody tr th {\n",
       "        vertical-align: top;\n",
       "    }\n",
       "\n",
       "    .dataframe thead th {\n",
       "        text-align: right;\n",
       "    }\n",
       "</style>\n",
       "<table border=\"1\" class=\"dataframe\">\n",
       "  <thead>\n",
       "    <tr style=\"text-align: right;\">\n",
       "      <th></th>\n",
       "      <th>v1</th>\n",
       "      <th>v2</th>\n",
       "      <th>v3</th>\n",
       "      <th>v4</th>\n",
       "      <th>v5</th>\n",
       "      <th>t1</th>\n",
       "      <th>t2</th>\n",
       "      <th>annotation</th>\n",
       "      <th>radiation rate</th>\n",
       "      <th>timestamp</th>\n",
       "    </tr>\n",
       "  </thead>\n",
       "  <tbody>\n",
       "    <tr>\n",
       "      <th>count</th>\n",
       "      <td>19800.000000</td>\n",
       "      <td>19800.000000</td>\n",
       "      <td>19800.000000</td>\n",
       "      <td>19800.000000</td>\n",
       "      <td>19800.000000</td>\n",
       "      <td>19800.000000</td>\n",
       "      <td>19800.000000</td>\n",
       "      <td>19800.000000</td>\n",
       "      <td>19800.000000</td>\n",
       "      <td>1.980000e+04</td>\n",
       "    </tr>\n",
       "    <tr>\n",
       "      <th>mean</th>\n",
       "      <td>1.957821</td>\n",
       "      <td>1.511976</td>\n",
       "      <td>1.139565</td>\n",
       "      <td>0.805223</td>\n",
       "      <td>3.535615</td>\n",
       "      <td>55.420707</td>\n",
       "      <td>36.689836</td>\n",
       "      <td>0.060606</td>\n",
       "      <td>2966.148636</td>\n",
       "      <td>1.580998e+09</td>\n",
       "    </tr>\n",
       "    <tr>\n",
       "      <th>std</th>\n",
       "      <td>0.145718</td>\n",
       "      <td>0.132226</td>\n",
       "      <td>0.136562</td>\n",
       "      <td>0.134275</td>\n",
       "      <td>0.183454</td>\n",
       "      <td>9.052779</td>\n",
       "      <td>3.909734</td>\n",
       "      <td>0.238612</td>\n",
       "      <td>3322.785238</td>\n",
       "      <td>2.437355e+04</td>\n",
       "    </tr>\n",
       "    <tr>\n",
       "      <th>min</th>\n",
       "      <td>1.760000</td>\n",
       "      <td>1.100000</td>\n",
       "      <td>0.660000</td>\n",
       "      <td>0.460000</td>\n",
       "      <td>0.950000</td>\n",
       "      <td>24.000000</td>\n",
       "      <td>26.750000</td>\n",
       "      <td>0.000000</td>\n",
       "      <td>1209.000000</td>\n",
       "      <td>1.580981e+09</td>\n",
       "    </tr>\n",
       "    <tr>\n",
       "      <th>25%</th>\n",
       "      <td>1.880000</td>\n",
       "      <td>1.420000</td>\n",
       "      <td>1.050000</td>\n",
       "      <td>0.710000</td>\n",
       "      <td>3.390000</td>\n",
       "      <td>50.250000</td>\n",
       "      <td>34.750000</td>\n",
       "      <td>0.000000</td>\n",
       "      <td>1209.000000</td>\n",
       "      <td>1.580987e+09</td>\n",
       "    </tr>\n",
       "    <tr>\n",
       "      <th>50%</th>\n",
       "      <td>1.900000</td>\n",
       "      <td>1.460000</td>\n",
       "      <td>1.120000</td>\n",
       "      <td>0.810000</td>\n",
       "      <td>3.520000</td>\n",
       "      <td>56.000000</td>\n",
       "      <td>36.000000</td>\n",
       "      <td>0.000000</td>\n",
       "      <td>1209.000000</td>\n",
       "      <td>1.580991e+09</td>\n",
       "    </tr>\n",
       "    <tr>\n",
       "      <th>75%</th>\n",
       "      <td>2.030000</td>\n",
       "      <td>1.590000</td>\n",
       "      <td>1.220000</td>\n",
       "      <td>0.880000</td>\n",
       "      <td>3.660000</td>\n",
       "      <td>61.250000</td>\n",
       "      <td>37.500000</td>\n",
       "      <td>0.000000</td>\n",
       "      <td>2469.000000</td>\n",
       "      <td>1.580994e+09</td>\n",
       "    </tr>\n",
       "    <tr>\n",
       "      <th>max</th>\n",
       "      <td>3.300000</td>\n",
       "      <td>2.390000</td>\n",
       "      <td>2.050000</td>\n",
       "      <td>1.320000</td>\n",
       "      <td>4.080000</td>\n",
       "      <td>72.250000</td>\n",
       "      <td>68.750000</td>\n",
       "      <td>1.000000</td>\n",
       "      <td>16966.000000</td>\n",
       "      <td>1.581071e+09</td>\n",
       "    </tr>\n",
       "  </tbody>\n",
       "</table>\n",
       "</div>"
      ],
      "text/plain": [
       "                 v1            v2            v3            v4            v5  \\\n",
       "count  19800.000000  19800.000000  19800.000000  19800.000000  19800.000000   \n",
       "mean       1.957821      1.511976      1.139565      0.805223      3.535615   \n",
       "std        0.145718      0.132226      0.136562      0.134275      0.183454   \n",
       "min        1.760000      1.100000      0.660000      0.460000      0.950000   \n",
       "25%        1.880000      1.420000      1.050000      0.710000      3.390000   \n",
       "50%        1.900000      1.460000      1.120000      0.810000      3.520000   \n",
       "75%        2.030000      1.590000      1.220000      0.880000      3.660000   \n",
       "max        3.300000      2.390000      2.050000      1.320000      4.080000   \n",
       "\n",
       "                 t1            t2    annotation  radiation rate     timestamp  \n",
       "count  19800.000000  19800.000000  19800.000000    19800.000000  1.980000e+04  \n",
       "mean      55.420707     36.689836      0.060606     2966.148636  1.580998e+09  \n",
       "std        9.052779      3.909734      0.238612     3322.785238  2.437355e+04  \n",
       "min       24.000000     26.750000      0.000000     1209.000000  1.580981e+09  \n",
       "25%       50.250000     34.750000      0.000000     1209.000000  1.580987e+09  \n",
       "50%       56.000000     36.000000      0.000000     1209.000000  1.580991e+09  \n",
       "75%       61.250000     37.500000      0.000000     2469.000000  1.580994e+09  \n",
       "max       72.250000     68.750000      1.000000    16966.000000  1.581071e+09  "
      ]
     },
     "execution_count": 7,
     "metadata": {},
     "output_type": "execute_result"
    }
   ],
   "source": [
    "df.describe()"
   ]
  },
  {
   "cell_type": "markdown",
   "id": "d1ff44ff7a984019",
   "metadata": {},
   "source": [
    "### Check for missing values"
   ]
  },
  {
   "cell_type": "code",
   "execution_count": 8,
   "id": "9dd9e049048e4009",
   "metadata": {
    "ExecuteTime": {
     "end_time": "2024-09-30T09:28:37.035831Z",
     "start_time": "2024-09-30T09:28:37.030698Z"
    }
   },
   "outputs": [
    {
     "data": {
      "text/plain": [
       "v1                0\n",
       "v2                0\n",
       "v3                0\n",
       "v4                0\n",
       "v5                0\n",
       "t1                0\n",
       "t2                0\n",
       "annotation        0\n",
       "radiation rate    0\n",
       "timestamp         0\n",
       "dtype: int64"
      ]
     },
     "execution_count": 8,
     "metadata": {},
     "output_type": "execute_result"
    }
   ],
   "source": [
    "df.isnull().sum()"
   ]
  },
  {
   "cell_type": "markdown",
   "id": "d1caefe9757860d8",
   "metadata": {},
   "source": [
    "### Value Count in annotation column"
   ]
  },
  {
   "cell_type": "code",
   "execution_count": 9,
   "id": "81a984901716d912",
   "metadata": {
    "ExecuteTime": {
     "end_time": "2024-09-30T09:28:37.043170Z",
     "start_time": "2024-09-30T09:28:37.037162Z"
    }
   },
   "outputs": [
    {
     "data": {
      "text/plain": [
       "annotation\n",
       "0    18600\n",
       "1     1200\n",
       "Name: count, dtype: int64"
      ]
     },
     "execution_count": 9,
     "metadata": {},
     "output_type": "execute_result"
    }
   ],
   "source": [
    "df['annotation'].value_counts()"
   ]
  },
  {
   "cell_type": "markdown",
   "id": "4b6e824dca6565b7",
   "metadata": {},
   "source": [
    "### Percentage of each value in annotation column"
   ]
  },
  {
   "cell_type": "code",
   "execution_count": 10,
   "id": "b063e75d8904d818",
   "metadata": {
    "ExecuteTime": {
     "end_time": "2024-09-30T09:28:37.064062Z",
     "start_time": "2024-09-30T09:28:37.045982Z"
    }
   },
   "outputs": [
    {
     "data": {
      "text/plain": [
       "annotation\n",
       "0    0.939394\n",
       "1    0.060606\n",
       "Name: proportion, dtype: float64"
      ]
     },
     "execution_count": 10,
     "metadata": {},
     "output_type": "execute_result"
    }
   ],
   "source": [
    "df['annotation'].value_counts(normalize=True)"
   ]
  },
  {
   "cell_type": "markdown",
   "id": "619e61b13d3ea279",
   "metadata": {},
   "source": [
    "### Columns in the dataset"
   ]
  },
  {
   "cell_type": "code",
   "execution_count": 11,
   "id": "8d49bfc6aa2c3f0",
   "metadata": {
    "ExecuteTime": {
     "end_time": "2024-09-30T09:28:37.238029Z",
     "start_time": "2024-09-30T09:28:37.221323Z"
    }
   },
   "outputs": [
    {
     "data": {
      "text/plain": [
       "Index(['v1', 'v2', 'v3', 'v4', 'v5', 't1', 't2', 'annotation',\n",
       "       'radiation rate', 'timestamp'],\n",
       "      dtype='object')"
      ]
     },
     "execution_count": 11,
     "metadata": {},
     "output_type": "execute_result"
    }
   ],
   "source": [
    "df.columns"
   ]
  },
  {
   "cell_type": "markdown",
   "id": "9ab5c170acc6d619",
   "metadata": {},
   "source": [
    "### Shape of the dataset"
   ]
  },
  {
   "cell_type": "code",
   "execution_count": 12,
   "id": "263d25fff4be4fe4",
   "metadata": {
    "ExecuteTime": {
     "end_time": "2024-09-30T09:28:37.441801Z",
     "start_time": "2024-09-30T09:28:37.431864Z"
    }
   },
   "outputs": [
    {
     "data": {
      "text/plain": [
       "(19800, 10)"
      ]
     },
     "execution_count": 12,
     "metadata": {},
     "output_type": "execute_result"
    }
   ],
   "source": [
    "df.shape"
   ]
  },
  {
   "cell_type": "markdown",
   "id": "85c1e9661836d6d8",
   "metadata": {},
   "source": [
    "### Convert timestamp column to datetime and set it as index"
   ]
  },
  {
   "cell_type": "markdown",
   "id": "49129265-3273-45d5-b831-d7a3a692e758",
   "metadata": {},
   "source": [
    "It is useful to have the time (or timestamp) as the index since It allows selecting data over specific time periods (e.g., hourly, daily, monthly,  analysis) and for easier slicing."
   ]
  },
  {
   "cell_type": "code",
   "execution_count": 13,
   "id": "42dabbba2a04e99d",
   "metadata": {
    "ExecuteTime": {
     "end_time": "2024-09-30T09:28:37.638417Z",
     "start_time": "2024-09-30T09:28:37.607525Z"
    }
   },
   "outputs": [],
   "source": [
    "df['timestamp'] = pd.to_datetime(df['timestamp'], unit='ms')\n",
    "\n",
    "# use only the time part of the timestamp\n",
    "# df['timestamp'] = df['timestamp']\n",
    "df.set_index('timestamp', inplace=True)"
   ]
  },
  {
   "cell_type": "code",
   "execution_count": 14,
   "id": "cf07a3c7cef60441",
   "metadata": {
    "ExecuteTime": {
     "end_time": "2024-09-30T09:28:37.881635Z",
     "start_time": "2024-09-30T09:28:37.863566Z"
    }
   },
   "outputs": [
    {
     "data": {
      "text/html": [
       "<div>\n",
       "<style scoped>\n",
       "    .dataframe tbody tr th:only-of-type {\n",
       "        vertical-align: middle;\n",
       "    }\n",
       "\n",
       "    .dataframe tbody tr th {\n",
       "        vertical-align: top;\n",
       "    }\n",
       "\n",
       "    .dataframe thead th {\n",
       "        text-align: right;\n",
       "    }\n",
       "</style>\n",
       "<table border=\"1\" class=\"dataframe\">\n",
       "  <thead>\n",
       "    <tr style=\"text-align: right;\">\n",
       "      <th></th>\n",
       "      <th>v1</th>\n",
       "      <th>v2</th>\n",
       "      <th>v3</th>\n",
       "      <th>v4</th>\n",
       "      <th>v5</th>\n",
       "      <th>t1</th>\n",
       "      <th>t2</th>\n",
       "      <th>annotation</th>\n",
       "      <th>radiation rate</th>\n",
       "    </tr>\n",
       "    <tr>\n",
       "      <th>timestamp</th>\n",
       "      <th></th>\n",
       "      <th></th>\n",
       "      <th></th>\n",
       "      <th></th>\n",
       "      <th></th>\n",
       "      <th></th>\n",
       "      <th></th>\n",
       "      <th></th>\n",
       "      <th></th>\n",
       "    </tr>\n",
       "  </thead>\n",
       "  <tbody>\n",
       "    <tr>\n",
       "      <th>1970-01-19 07:09:41.470970360</th>\n",
       "      <td>1.90</td>\n",
       "      <td>1.44</td>\n",
       "      <td>1.12</td>\n",
       "      <td>0.68</td>\n",
       "      <td>3.39</td>\n",
       "      <td>28.25</td>\n",
       "      <td>28.00</td>\n",
       "      <td>0</td>\n",
       "      <td>5137</td>\n",
       "    </tr>\n",
       "    <tr>\n",
       "      <th>1970-01-19 07:09:41.473216010</th>\n",
       "      <td>1.78</td>\n",
       "      <td>1.29</td>\n",
       "      <td>1.00</td>\n",
       "      <td>0.71</td>\n",
       "      <td>3.37</td>\n",
       "      <td>27.25</td>\n",
       "      <td>27.50</td>\n",
       "      <td>0</td>\n",
       "      <td>5137</td>\n",
       "    </tr>\n",
       "    <tr>\n",
       "      <th>1970-01-19 07:09:41.473854900</th>\n",
       "      <td>1.90</td>\n",
       "      <td>1.39</td>\n",
       "      <td>1.12</td>\n",
       "      <td>0.73</td>\n",
       "      <td>3.37</td>\n",
       "      <td>27.50</td>\n",
       "      <td>27.50</td>\n",
       "      <td>0</td>\n",
       "      <td>5137</td>\n",
       "    </tr>\n",
       "    <tr>\n",
       "      <th>1970-01-19 07:09:41.474493870</th>\n",
       "      <td>1.78</td>\n",
       "      <td>1.29</td>\n",
       "      <td>1.12</td>\n",
       "      <td>0.68</td>\n",
       "      <td>3.39</td>\n",
       "      <td>27.75</td>\n",
       "      <td>27.75</td>\n",
       "      <td>0</td>\n",
       "      <td>5137</td>\n",
       "    </tr>\n",
       "    <tr>\n",
       "      <th>1970-01-19 07:09:41.475128740</th>\n",
       "      <td>1.88</td>\n",
       "      <td>1.44</td>\n",
       "      <td>1.03</td>\n",
       "      <td>0.68</td>\n",
       "      <td>3.30</td>\n",
       "      <td>28.00</td>\n",
       "      <td>27.50</td>\n",
       "      <td>0</td>\n",
       "      <td>5137</td>\n",
       "    </tr>\n",
       "    <tr>\n",
       "      <th>1970-01-19 07:09:41.475767690</th>\n",
       "      <td>1.78</td>\n",
       "      <td>1.34</td>\n",
       "      <td>1.00</td>\n",
       "      <td>0.71</td>\n",
       "      <td>3.37</td>\n",
       "      <td>28.00</td>\n",
       "      <td>28.25</td>\n",
       "      <td>0</td>\n",
       "      <td>5137</td>\n",
       "    </tr>\n",
       "    <tr>\n",
       "      <th>1970-01-19 07:09:41.476406590</th>\n",
       "      <td>1.78</td>\n",
       "      <td>1.29</td>\n",
       "      <td>1.00</td>\n",
       "      <td>0.73</td>\n",
       "      <td>3.37</td>\n",
       "      <td>28.50</td>\n",
       "      <td>27.50</td>\n",
       "      <td>0</td>\n",
       "      <td>5137</td>\n",
       "    </tr>\n",
       "    <tr>\n",
       "      <th>1970-01-19 07:09:41.477041480</th>\n",
       "      <td>1.83</td>\n",
       "      <td>1.39</td>\n",
       "      <td>1.05</td>\n",
       "      <td>0.71</td>\n",
       "      <td>3.37</td>\n",
       "      <td>28.00</td>\n",
       "      <td>28.00</td>\n",
       "      <td>0</td>\n",
       "      <td>5137</td>\n",
       "    </tr>\n",
       "    <tr>\n",
       "      <th>1970-01-19 07:09:41.477680390</th>\n",
       "      <td>1.83</td>\n",
       "      <td>1.39</td>\n",
       "      <td>1.05</td>\n",
       "      <td>0.71</td>\n",
       "      <td>3.37</td>\n",
       "      <td>28.00</td>\n",
       "      <td>28.00</td>\n",
       "      <td>0</td>\n",
       "      <td>5137</td>\n",
       "    </tr>\n",
       "    <tr>\n",
       "      <th>1970-01-19 07:09:41.478319370</th>\n",
       "      <td>1.83</td>\n",
       "      <td>1.39</td>\n",
       "      <td>1.03</td>\n",
       "      <td>0.73</td>\n",
       "      <td>3.34</td>\n",
       "      <td>28.00</td>\n",
       "      <td>28.00</td>\n",
       "      <td>0</td>\n",
       "      <td>5137</td>\n",
       "    </tr>\n",
       "  </tbody>\n",
       "</table>\n",
       "</div>"
      ],
      "text/plain": [
       "                                 v1    v2    v3    v4    v5     t1     t2  \\\n",
       "timestamp                                                                   \n",
       "1970-01-19 07:09:41.470970360  1.90  1.44  1.12  0.68  3.39  28.25  28.00   \n",
       "1970-01-19 07:09:41.473216010  1.78  1.29  1.00  0.71  3.37  27.25  27.50   \n",
       "1970-01-19 07:09:41.473854900  1.90  1.39  1.12  0.73  3.37  27.50  27.50   \n",
       "1970-01-19 07:09:41.474493870  1.78  1.29  1.12  0.68  3.39  27.75  27.75   \n",
       "1970-01-19 07:09:41.475128740  1.88  1.44  1.03  0.68  3.30  28.00  27.50   \n",
       "1970-01-19 07:09:41.475767690  1.78  1.34  1.00  0.71  3.37  28.00  28.25   \n",
       "1970-01-19 07:09:41.476406590  1.78  1.29  1.00  0.73  3.37  28.50  27.50   \n",
       "1970-01-19 07:09:41.477041480  1.83  1.39  1.05  0.71  3.37  28.00  28.00   \n",
       "1970-01-19 07:09:41.477680390  1.83  1.39  1.05  0.71  3.37  28.00  28.00   \n",
       "1970-01-19 07:09:41.478319370  1.83  1.39  1.03  0.73  3.34  28.00  28.00   \n",
       "\n",
       "                               annotation  radiation rate  \n",
       "timestamp                                                  \n",
       "1970-01-19 07:09:41.470970360           0            5137  \n",
       "1970-01-19 07:09:41.473216010           0            5137  \n",
       "1970-01-19 07:09:41.473854900           0            5137  \n",
       "1970-01-19 07:09:41.474493870           0            5137  \n",
       "1970-01-19 07:09:41.475128740           0            5137  \n",
       "1970-01-19 07:09:41.475767690           0            5137  \n",
       "1970-01-19 07:09:41.476406590           0            5137  \n",
       "1970-01-19 07:09:41.477041480           0            5137  \n",
       "1970-01-19 07:09:41.477680390           0            5137  \n",
       "1970-01-19 07:09:41.478319370           0            5137  "
      ]
     },
     "execution_count": 14,
     "metadata": {},
     "output_type": "execute_result"
    }
   ],
   "source": [
    "df.head(10)"
   ]
  },
  {
   "cell_type": "code",
   "execution_count": 15,
   "id": "ac37d8b6536283c3",
   "metadata": {
    "ExecuteTime": {
     "end_time": "2024-09-30T09:28:38.318408Z",
     "start_time": "2024-09-30T09:28:38.304230Z"
    }
   },
   "outputs": [
    {
     "data": {
      "text/html": [
       "<div>\n",
       "<style scoped>\n",
       "    .dataframe tbody tr th:only-of-type {\n",
       "        vertical-align: middle;\n",
       "    }\n",
       "\n",
       "    .dataframe tbody tr th {\n",
       "        vertical-align: top;\n",
       "    }\n",
       "\n",
       "    .dataframe thead th {\n",
       "        text-align: right;\n",
       "    }\n",
       "</style>\n",
       "<table border=\"1\" class=\"dataframe\">\n",
       "  <thead>\n",
       "    <tr style=\"text-align: right;\">\n",
       "      <th></th>\n",
       "      <th>v1</th>\n",
       "      <th>v2</th>\n",
       "      <th>v3</th>\n",
       "      <th>v4</th>\n",
       "      <th>v5</th>\n",
       "      <th>t1</th>\n",
       "      <th>t2</th>\n",
       "      <th>annotation</th>\n",
       "      <th>radiation rate</th>\n",
       "    </tr>\n",
       "    <tr>\n",
       "      <th>timestamp</th>\n",
       "      <th></th>\n",
       "      <th></th>\n",
       "      <th></th>\n",
       "      <th></th>\n",
       "      <th></th>\n",
       "      <th></th>\n",
       "      <th></th>\n",
       "      <th></th>\n",
       "      <th></th>\n",
       "    </tr>\n",
       "  </thead>\n",
       "  <tbody>\n",
       "    <tr>\n",
       "      <th>1970-01-19 07:11:10.605348320</th>\n",
       "      <td>3.03</td>\n",
       "      <td>1.88</td>\n",
       "      <td>1.20</td>\n",
       "      <td>1.32</td>\n",
       "      <td>1.15</td>\n",
       "      <td>55.50</td>\n",
       "      <td>61.25</td>\n",
       "      <td>1</td>\n",
       "      <td>16966</td>\n",
       "    </tr>\n",
       "    <tr>\n",
       "      <th>1970-01-19 07:11:10.605987480</th>\n",
       "      <td>3.17</td>\n",
       "      <td>2.39</td>\n",
       "      <td>1.00</td>\n",
       "      <td>1.00</td>\n",
       "      <td>1.25</td>\n",
       "      <td>55.25</td>\n",
       "      <td>63.50</td>\n",
       "      <td>1</td>\n",
       "      <td>16966</td>\n",
       "    </tr>\n",
       "    <tr>\n",
       "      <th>1970-01-19 07:11:10.606626130</th>\n",
       "      <td>3.10</td>\n",
       "      <td>2.15</td>\n",
       "      <td>1.22</td>\n",
       "      <td>1.32</td>\n",
       "      <td>1.32</td>\n",
       "      <td>55.25</td>\n",
       "      <td>65.25</td>\n",
       "      <td>1</td>\n",
       "      <td>16966</td>\n",
       "    </tr>\n",
       "    <tr>\n",
       "      <th>1970-01-19 07:11:10.607261040</th>\n",
       "      <td>2.95</td>\n",
       "      <td>2.12</td>\n",
       "      <td>1.32</td>\n",
       "      <td>1.12</td>\n",
       "      <td>1.15</td>\n",
       "      <td>55.00</td>\n",
       "      <td>67.00</td>\n",
       "      <td>1</td>\n",
       "      <td>16966</td>\n",
       "    </tr>\n",
       "    <tr>\n",
       "      <th>1970-01-19 07:11:10.607900390</th>\n",
       "      <td>3.08</td>\n",
       "      <td>1.88</td>\n",
       "      <td>1.32</td>\n",
       "      <td>1.32</td>\n",
       "      <td>1.56</td>\n",
       "      <td>54.75</td>\n",
       "      <td>68.75</td>\n",
       "      <td>1</td>\n",
       "      <td>16966</td>\n",
       "    </tr>\n",
       "  </tbody>\n",
       "</table>\n",
       "</div>"
      ],
      "text/plain": [
       "                                 v1    v2    v3    v4    v5     t1     t2  \\\n",
       "timestamp                                                                   \n",
       "1970-01-19 07:11:10.605348320  3.03  1.88  1.20  1.32  1.15  55.50  61.25   \n",
       "1970-01-19 07:11:10.605987480  3.17  2.39  1.00  1.00  1.25  55.25  63.50   \n",
       "1970-01-19 07:11:10.606626130  3.10  2.15  1.22  1.32  1.32  55.25  65.25   \n",
       "1970-01-19 07:11:10.607261040  2.95  2.12  1.32  1.12  1.15  55.00  67.00   \n",
       "1970-01-19 07:11:10.607900390  3.08  1.88  1.32  1.32  1.56  54.75  68.75   \n",
       "\n",
       "                               annotation  radiation rate  \n",
       "timestamp                                                  \n",
       "1970-01-19 07:11:10.605348320           1           16966  \n",
       "1970-01-19 07:11:10.605987480           1           16966  \n",
       "1970-01-19 07:11:10.606626130           1           16966  \n",
       "1970-01-19 07:11:10.607261040           1           16966  \n",
       "1970-01-19 07:11:10.607900390           1           16966  "
      ]
     },
     "execution_count": 15,
     "metadata": {},
     "output_type": "execute_result"
    }
   ],
   "source": [
    "df.tail()"
   ]
  },
  {
   "cell_type": "markdown",
   "id": "1119c0aba78c8136",
   "metadata": {},
   "source": [
    "### Distribution of every feature"
   ]
  },
  {
   "cell_type": "markdown",
   "id": "c7975ec5-d47e-485e-90f8-613c467d4ee8",
   "metadata": {},
   "source": [
    "For visualizing the distribution of numerical data in the DataFrame, which helps identify patterns, skewness, or outliers."
   ]
  },
  {
   "cell_type": "code",
   "execution_count": 16,
   "id": "558af045b9b2da06",
   "metadata": {
    "ExecuteTime": {
     "end_time": "2024-09-30T09:28:39.603541Z",
     "start_time": "2024-09-30T09:28:38.475281Z"
    }
   },
   "outputs": [
    {
     "data": {
      "image/png": "[encoded data removed]",
      "text/plain": [
       "<Figure size 2000x1500 with 9 Axes>"
      ]
     },
     "metadata": {},
     "output_type": "display_data"
    }
   ],
   "source": [
    "# Generate histograms for all numerical columns in the DataFrame 'df'\n",
    "df.hist(bins=50, figsize=(20,15), color='blue')\n",
    "plt.show()"
   ]
  },
  {
   "cell_type": "code",
   "execution_count": 17,
   "id": "66928135540358c7",
   "metadata": {
    "ExecuteTime": {
     "end_time": "2024-09-30T09:28:42.702565Z",
     "start_time": "2024-09-30T09:28:39.605617Z"
    }
   },
   "outputs": [
    {
     "data": {
      "image/png": "[encoded data removed]",
      "text/plain": [
       "<Figure size 2000x1500 with 9 Axes>"
      ]
     },
     "metadata": {},
     "output_type": "display_data"
    }
   ],
   "source": [
    "# plot the distribution of every feature\n",
    "df.plot(subplots=True, figsize=(20,15))\n",
    "plt.show()"
   ]
  },
  {
   "cell_type": "code",
   "execution_count": 18,
   "id": "58ffd73cca910710",
   "metadata": {
    "ExecuteTime": {
     "end_time": "2024-09-30T09:28:42.727914Z",
     "start_time": "2024-09-30T09:28:42.704419Z"
    }
   },
   "outputs": [
    {
     "data": {
      "text/html": [
       "<div>\n",
       "<style scoped>\n",
       "    .dataframe tbody tr th:only-of-type {\n",
       "        vertical-align: middle;\n",
       "    }\n",
       "\n",
       "    .dataframe tbody tr th {\n",
       "        vertical-align: top;\n",
       "    }\n",
       "\n",
       "    .dataframe thead th {\n",
       "        text-align: right;\n",
       "    }\n",
       "</style>\n",
       "<table border=\"1\" class=\"dataframe\">\n",
       "  <thead>\n",
       "    <tr style=\"text-align: right;\">\n",
       "      <th></th>\n",
       "      <th>v1</th>\n",
       "      <th>v2</th>\n",
       "      <th>v3</th>\n",
       "      <th>v4</th>\n",
       "      <th>v5</th>\n",
       "      <th>t1</th>\n",
       "      <th>t2</th>\n",
       "      <th>annotation</th>\n",
       "      <th>radiation rate</th>\n",
       "    </tr>\n",
       "    <tr>\n",
       "      <th>timestamp</th>\n",
       "      <th></th>\n",
       "      <th></th>\n",
       "      <th></th>\n",
       "      <th></th>\n",
       "      <th></th>\n",
       "      <th></th>\n",
       "      <th></th>\n",
       "      <th></th>\n",
       "      <th></th>\n",
       "    </tr>\n",
       "  </thead>\n",
       "  <tbody>\n",
       "  </tbody>\n",
       "</table>\n",
       "</div>"
      ],
      "text/plain": [
       "Empty DataFrame\n",
       "Columns: [v1, v2, v3, v4, v5, t1, t2, annotation, radiation rate]\n",
       "Index: []"
      ]
     },
     "execution_count": 18,
     "metadata": {},
     "output_type": "execute_result"
    }
   ],
   "source": [
    "# Get rows from '1970-01-19 07:10:00' to '1970-01-19 07:11:00'\n",
    "df['1970-01-19 07:10:00':'1970-01-19 07:11:00']"
   ]
  },
  {
   "cell_type": "markdown",
   "id": "602370367ee1a33f",
   "metadata": {},
   "source": [
    "# 2. Data Preprocessing"
   ]
  },
  {
   "cell_type": "markdown",
   "id": "83b31a737130b6e5",
   "metadata": {},
   "source": [
    "### Splitting the dataset"
   ]
  },
  {
   "cell_type": "markdown",
   "id": "902c1e41-6ca7-4c73-ae8d-c83b183f97b2",
   "metadata": {},
   "source": [
    "The purpose of splitting the dataset into training and testing sets is to evaluate the model's performance on unseen data. By doing this, we can ensure that the model generalizes well to new data rather than simply memorizing the training data (overfitting).\n",
    "\n",
    "**Training Set:** Used to train the model by adjusting its parameters based on the input data and corresponding labels.\n",
    "\n",
    "**Testing Set:** This is a subset of the data that the model has never seen during training. It allows us to objectively evaluate the model's performance on data that it wasn't trained on."
   ]
  },
  {
   "cell_type": "code",
   "execution_count": 19,
   "id": "ee3917eacb530519",
   "metadata": {
    "ExecuteTime": {
     "end_time": "2024-09-30T09:28:42.738750Z",
     "start_time": "2024-09-30T09:28:42.729593Z"
    }
   },
   "outputs": [],
   "source": [
    "# Split the dataset into features (X) and target (y), with 80% for training and 20% for testing.\n",
    "X_train, X_test, y_train, y_test = train_test_split(\n",
    "    df.drop('annotation', axis=1),  # Features (all columns except 'annotation')\n",
    "    df['annotation'],               # Target variable ('annotation')\n",
    "    test_size=0.2,                  # Test set is 20% of the dataset\n",
    "    random_state=42                 # Ensures the same random split every time for reproducibility\n",
    ")\n"
   ]
  },
  {
   "cell_type": "code",
   "execution_count": 20,
   "id": "b3ba0e2c700797cc",
   "metadata": {
    "ExecuteTime": {
     "end_time": "2024-09-30T09:28:42.745313Z",
     "start_time": "2024-09-30T09:28:42.741589Z"
    }
   },
   "outputs": [],
   "source": [
    "# Initialize StratifiedKFold with 5 splits to preserve class distribution in each fold.\n",
    "skf = StratifiedKFold(n_splits=5)\n"
   ]
  },
  {
   "cell_type": "markdown",
   "id": "ffdee175-c7c2-4d53-a8b2-cfb40fc04e3e",
   "metadata": {},
   "source": [
    "Why Scaling/Normalization is Needed: Many machine learning algorithms, such as k-nearest neighbors, support vector machines, and neural networks, perform better when the features are scaled to a similar range. Otherwise, features with larger values could dominate the model's calculations"
   ]
  },
  {
   "cell_type": "code",
   "execution_count": 21,
   "id": "78da930c032c0b6e",
   "metadata": {
    "ExecuteTime": {
     "end_time": "2024-09-30T09:28:42.754335Z",
     "start_time": "2024-09-30T09:28:42.747595Z"
    }
   },
   "outputs": [],
   "source": [
    "# Initialize MinMaxScaler to scale features to a range [0, 1].\n",
    "scaler = MinMaxScaler()\n",
    "\n",
    "# Fit the scaler on X_train and transform it.\n",
    "X_train = scaler.fit_transform(X_train)\n",
    "\n",
    "# Apply the same transformation to X_test (using the fitted scaler from X_train).\n",
    "X_test = scaler.transform(X_test)"
   ]
  },
  {
   "cell_type": "markdown",
   "id": "31726a8044629b15",
   "metadata": {},
   "source": [
    "### Encoding categorical column"
   ]
  },
  {
   "cell_type": "markdown",
   "id": "e99bf80cc19f1899",
   "metadata": {},
   "source": [
    "Categorical data is the data that generally takes a limited number of possible values. These values represent different categories or groups. The categorical data can be divided into two types: Nominal and Ordinal data.\n",
    "Nominal data is the data that has two or more categories, but which do not have an intrinsic order. For example,\n",
    "- The type of car.\n",
    "- The city of residence.\n",
    "- The color of a car.\n",
    "\n",
    "Ordinal data is the data that has two or more categories with a clear ordering. For example,\n",
    "- Star rating.\n",
    "- Education level.\n",
    "- Income level.\n",
    "\n",
    "In our dataset the annotation column contains 0s and 1s hence there is no need to encode the column.\n",
    "The rest of the columns are numerical columns.\n"
   ]
  },
  {
   "cell_type": "markdown",
   "id": "9b3d3d64c04aa92b",
   "metadata": {},
   "source": [
    "# 3. Feature Selection"
   ]
  },
  {
   "cell_type": "markdown",
   "id": "3a1a7e2671775a50",
   "metadata": {},
   "source": [
    "### Using PCA for feature selection"
   ]
  },
  {
   "cell_type": "code",
   "execution_count": 22,
   "id": "421ce98a6fd3f18a",
   "metadata": {
    "ExecuteTime": {
     "end_time": "2024-09-30T09:28:42.816032Z",
     "start_time": "2024-09-30T09:28:42.755499Z"
    }
   },
   "outputs": [],
   "source": [
    "# PCA\n",
    "pca = PCA(n_components=8)\n",
    "\n",
    "principalComponents = pca.fit_transform(X_train)\n",
    "principalDf = pd.DataFrame(data = principalComponents, columns = ['v1', 'v2', 'v3', 'v4', 'v5', 't1', 't2', 'radiation_rate'])"
   ]
  },
  {
   "cell_type": "markdown",
   "id": "70a6d64dc0f0f611",
   "metadata": {},
   "source": [
    "### Explained Variance\n",
    "Explained Variance is the proportion to which each principal component explains the variance of the data. It is important to know how much information is retained by the principal components. The explained variance is calculated using the explained_variance_ratio_ attribute of the PCA object."
   ]
  },
  {
   "cell_type": "code",
   "execution_count": 23,
   "id": "756436e87377c6b9",
   "metadata": {
    "ExecuteTime": {
     "end_time": "2024-09-30T09:28:42.826222Z",
     "start_time": "2024-09-30T09:28:42.818751Z"
    }
   },
   "outputs": [
    {
     "data": {
      "text/plain": [
       "array([0.43693911, 0.25888924, 0.1221186 , 0.0554861 , 0.04578219,\n",
       "       0.04025464, 0.02674441, 0.01378571])"
      ]
     },
     "execution_count": 23,
     "metadata": {},
     "output_type": "execute_result"
    }
   ],
   "source": [
    "# Explained Variance\n",
    "explained_variance = pca.explained_variance_ratio_\n",
    "explained_variance"
   ]
  },
  {
   "cell_type": "markdown",
   "id": "accb39b748790566",
   "metadata": {},
   "source": [
    "### Eigenvalues\n",
    "Eigenvalues are the values that represent how much variance is present in the dataset. The eigenvalues are the values that are used to determine the number of principal components to be selected. The eigenvalues are calculated using the eigenvectors of the covariance matrix of the dataset."
   ]
  },
  {
   "cell_type": "code",
   "execution_count": 24,
   "id": "15c59a6a7f8a34db",
   "metadata": {
    "ExecuteTime": {
     "end_time": "2024-09-30T09:28:42.835115Z",
     "start_time": "2024-09-30T09:28:42.829176Z"
    }
   },
   "outputs": [
    {
     "data": {
      "text/plain": [
       "array([0.06411326, 0.03798752, 0.01791879, 0.00814163, 0.00671774,\n",
       "       0.00590667, 0.00392428, 0.00202282])"
      ]
     },
     "execution_count": 24,
     "metadata": {},
     "output_type": "execute_result"
    }
   ],
   "source": [
    "# Eigenvalues\n",
    "pca.explained_variance_"
   ]
  },
  {
   "cell_type": "markdown",
   "id": "3ae550af457de183",
   "metadata": {},
   "source": [
    "# 4. Model Building"
   ]
  },
  {
   "cell_type": "markdown",
   "id": "c4ac5a06f16e8bb5",
   "metadata": {},
   "source": [
    "### Random Forest Classifier"
   ]
  },
  {
   "cell_type": "code",
   "execution_count": 25,
   "id": "c3db577ceef7a922",
   "metadata": {
    "ExecuteTime": {
     "end_time": "2024-09-30T09:28:46.690073Z",
     "start_time": "2024-09-30T09:28:42.842051Z"
    },
    "scrolled": true
   },
   "outputs": [
    {
     "name": "stdout",
     "output_type": "stream",
     "text": [
      "Random Forest\n"
     ]
    },
    {
     "data": {
      "text/html": [
       "<div>\n",
       "<style scoped>\n",
       "    .dataframe tbody tr th:only-of-type {\n",
       "        vertical-align: middle;\n",
       "    }\n",
       "\n",
       "    .dataframe tbody tr th {\n",
       "        vertical-align: top;\n",
       "    }\n",
       "\n",
       "    .dataframe thead th {\n",
       "        text-align: right;\n",
       "    }\n",
       "</style>\n",
       "<table border=\"1\" class=\"dataframe\">\n",
       "  <thead>\n",
       "    <tr style=\"text-align: right;\">\n",
       "      <th></th>\n",
       "      <th>Algorithm</th>\n",
       "      <th>Accuracy</th>\n",
       "      <th>F1 Score</th>\n",
       "      <th>Precision</th>\n",
       "      <th>Recall</th>\n",
       "    </tr>\n",
       "  </thead>\n",
       "  <tbody>\n",
       "    <tr>\n",
       "      <th>0</th>\n",
       "      <td>Random Forecast</td>\n",
       "      <td>0.991225</td>\n",
       "      <td>0.927768</td>\n",
       "      <td>0.934194</td>\n",
       "      <td>0.921575</td>\n",
       "    </tr>\n",
       "  </tbody>\n",
       "</table>\n",
       "</div>"
      ],
      "text/plain": [
       "         Algorithm  Accuracy  F1 Score Precision    Recall\n",
       "0  Random Forecast  0.991225  0.927768  0.934194  0.921575"
      ]
     },
     "execution_count": 25,
     "metadata": {},
     "output_type": "execute_result"
    }
   ],
   "source": [
    "rf = RandomForestClassifier(class_weight='balanced')\n",
    "rf_accuracy = []\n",
    "rf_f1 = []\n",
    "rf_precision = []\n",
    "rf_recall = []\n",
    "\n",
    "for train_index, test_index in skf.split(X_train, y_train):\n",
    "    X_train_fold, X_val_fold = X_train[train_index], X_train[test_index]\n",
    "    y_train_fold, y_val_fold = y_train[train_index], y_train[test_index]\n",
    "    rf.fit(X_train_fold, y_train_fold)\n",
    "    y_pred = rf.predict(X_val_fold)\n",
    "    rf_accuracy.append(accuracy_score(y_val_fold, y_pred))\n",
    "    rf_f1.append(f1_score(y_val_fold, y_pred))\n",
    "    rf_precision.append(precision_score(y_val_fold, y_pred))\n",
    "    rf_recall.append(recall_score(y_val_fold, y_pred))\n",
    "\n",
    "print('Random Forest')\n",
    "Accuracy = sum(rf_accuracy)/len(rf_accuracy)\n",
    "F1_Score = sum(rf_f1)/len(rf_f1)\n",
    "Precision = sum(rf_precision)/len(rf_precision)\n",
    "Recall = sum(rf_recall)/len(rf_recall)\n",
    "\n",
    "rf_results =  pd.DataFrame(['Random Forecast', Accuracy, F1_Score, Precision, Recall]).transpose()\n",
    "rf_results.columns = ['Algorithm','Accuracy', 'F1 Score', 'Precision', 'Recall']\n",
    "rf_results\n"
   ]
  },
  {
   "cell_type": "markdown",
   "id": "5e8a59d93ad6b2bd",
   "metadata": {},
   "source": [
    "### Logistic Regression"
   ]
  },
  {
   "cell_type": "code",
   "execution_count": 26,
   "id": "404fdebe9654585d",
   "metadata": {
    "ExecuteTime": {
     "end_time": "2024-09-30T09:28:49.485168Z",
     "start_time": "2024-09-30T09:28:48.786490Z"
    }
   },
   "outputs": [
    {
     "name": "stdout",
     "output_type": "stream",
     "text": [
      "Logistic Regression\n"
     ]
    },
    {
     "data": {
      "text/html": [
       "<div>\n",
       "<style scoped>\n",
       "    .dataframe tbody tr th:only-of-type {\n",
       "        vertical-align: middle;\n",
       "    }\n",
       "\n",
       "    .dataframe tbody tr th {\n",
       "        vertical-align: top;\n",
       "    }\n",
       "\n",
       "    .dataframe thead th {\n",
       "        text-align: right;\n",
       "    }\n",
       "</style>\n",
       "<table border=\"1\" class=\"dataframe\">\n",
       "  <thead>\n",
       "    <tr style=\"text-align: right;\">\n",
       "      <th></th>\n",
       "      <th>Algorithm</th>\n",
       "      <th>Accuracy</th>\n",
       "      <th>F1 Score</th>\n",
       "      <th>Precision</th>\n",
       "      <th>Recall</th>\n",
       "    </tr>\n",
       "  </thead>\n",
       "  <tbody>\n",
       "    <tr>\n",
       "      <th>0</th>\n",
       "      <td>Logistic Regression</td>\n",
       "      <td>0.95625</td>\n",
       "      <td>0.507876</td>\n",
       "      <td>0.813137</td>\n",
       "      <td>0.369441</td>\n",
       "    </tr>\n",
       "  </tbody>\n",
       "</table>\n",
       "</div>"
      ],
      "text/plain": [
       "             Algorithm Accuracy  F1 Score Precision    Recall\n",
       "0  Logistic Regression  0.95625  0.507876  0.813137  0.369441"
      ]
     },
     "execution_count": 26,
     "metadata": {},
     "output_type": "execute_result"
    }
   ],
   "source": [
    "lr = LogisticRegression()\n",
    "\n",
    "lr_accuracy = []\n",
    "lr_f1 = []\n",
    "lr_precision = []\n",
    "lr_recall = []\n",
    "\n",
    "for train_index, test_index in skf.split(X_train, y_train):\n",
    "    X_train_fold, X_val_fold = X_train[train_index], X_train[test_index]\n",
    "    y_train_fold, y_val_fold = y_train[train_index], y_train[test_index]\n",
    "    lr.fit(X_train_fold, y_train_fold)\n",
    "    y_pred = lr.predict(X_val_fold)\n",
    "    lr_accuracy.append(accuracy_score(y_val_fold, y_pred))\n",
    "    lr_f1.append(f1_score(y_val_fold, y_pred))\n",
    "    lr_precision.append(precision_score(y_val_fold, y_pred))\n",
    "    lr_recall.append(recall_score(y_val_fold, y_pred))\n",
    "    \n",
    "print('Logistic Regression')\n",
    "Accuracy = sum(lr_accuracy)/len(lr_accuracy)\n",
    "F1_Score = sum(lr_f1)/len(lr_f1)\n",
    "Precision = sum(lr_precision)/len(lr_precision)\n",
    "Recall = sum(lr_recall)/len(lr_recall)\n",
    "lr_results =  pd.DataFrame(['Logistic Regression', Accuracy, F1_Score, Precision, Recall]).transpose()\n",
    "lr_results.columns = ['Algorithm','Accuracy', 'F1 Score', 'Precision', 'Recall']\n",
    "lr_results"
   ]
  },
  {
   "cell_type": "markdown",
   "id": "ba73004aaee58554",
   "metadata": {},
   "source": [
    "### K Nearest Neighbors"
   ]
  },
  {
   "cell_type": "code",
   "execution_count": 27,
   "id": "ec53154a0ff3be11",
   "metadata": {
    "ExecuteTime": {
     "end_time": "2024-09-30T09:28:50.138986Z",
     "start_time": "2024-09-30T09:28:49.487843Z"
    }
   },
   "outputs": [
    {
     "name": "stdout",
     "output_type": "stream",
     "text": [
      "K Nearest Neighbors\n"
     ]
    },
    {
     "data": {
      "text/html": [
       "<div>\n",
       "<style scoped>\n",
       "    .dataframe tbody tr th:only-of-type {\n",
       "        vertical-align: middle;\n",
       "    }\n",
       "\n",
       "    .dataframe tbody tr th {\n",
       "        vertical-align: top;\n",
       "    }\n",
       "\n",
       "    .dataframe thead th {\n",
       "        text-align: right;\n",
       "    }\n",
       "</style>\n",
       "<table border=\"1\" class=\"dataframe\">\n",
       "  <thead>\n",
       "    <tr style=\"text-align: right;\">\n",
       "      <th></th>\n",
       "      <th>Algorithm</th>\n",
       "      <th>Accuracy</th>\n",
       "      <th>F1 Score</th>\n",
       "      <th>Precision</th>\n",
       "      <th>Recall</th>\n",
       "    </tr>\n",
       "  </thead>\n",
       "  <tbody>\n",
       "    <tr>\n",
       "      <th>0</th>\n",
       "      <td>K Nearest Neighbors</td>\n",
       "      <td>0.973801</td>\n",
       "      <td>0.765366</td>\n",
       "      <td>0.846936</td>\n",
       "      <td>0.698633</td>\n",
       "    </tr>\n",
       "  </tbody>\n",
       "</table>\n",
       "</div>"
      ],
      "text/plain": [
       "             Algorithm  Accuracy  F1 Score Precision    Recall\n",
       "0  K Nearest Neighbors  0.973801  0.765366  0.846936  0.698633"
      ]
     },
     "execution_count": 27,
     "metadata": {},
     "output_type": "execute_result"
    }
   ],
   "source": [
    "knn = KNeighborsClassifier()\n",
    "\n",
    "knn_accuracy = []\n",
    "knn_f1 = []\n",
    "knn_precision = []\n",
    "knn_recall = []\n",
    "\n",
    "for train_index, test_index in skf.split(X_train, y_train):\n",
    "    X_train_fold, X_val_fold = X_train[train_index], X_train[test_index]\n",
    "    y_train_fold, y_val_fold = y_train[train_index], y_train[test_index]\n",
    "    knn.fit(X_train_fold, y_train_fold)\n",
    "    y_pred = knn.predict(X_val_fold)\n",
    "    knn_accuracy.append(accuracy_score(y_val_fold, y_pred))\n",
    "    knn_f1.append(f1_score(y_val_fold, y_pred))\n",
    "    knn_precision.append(precision_score(y_val_fold, y_pred))\n",
    "    knn_recall.append(recall_score(y_val_fold, y_pred))\n",
    "    \n",
    "print('K Nearest Neighbors')\n",
    "Accuracy = sum(knn_accuracy)/len(knn_accuracy)\n",
    "F1_Score = sum(knn_f1)/len(knn_f1)\n",
    "Precision = sum(knn_precision)/len(knn_precision)\n",
    "Recall = sum(knn_recall)/len(knn_recall)\n",
    "knn_results =  pd.DataFrame(['K Nearest Neighbors', Accuracy, F1_Score, Precision, Recall]).transpose()\n",
    "knn_results.columns = ['Algorithm','Accuracy', 'F1 Score', 'Precision', 'Recall']\n",
    "knn_results\n"
   ]
  },
  {
   "cell_type": "markdown",
   "id": "09a9bba5-46c4-449c-96c7-766b1037d77a",
   "metadata": {},
   "source": [
    "# 5. Model Evaluation"
   ]
  },
  {
   "cell_type": "markdown",
   "id": "dcc1c7dc-fc06-4f46-9e55-f06c53ada79c",
   "metadata": {},
   "source": [
    "## Models Accuracy, F1 Score, Precision and Recall"
   ]
  },
  {
   "cell_type": "markdown",
   "id": "5dd31a3b-302d-4024-8be2-973e7095a81d",
   "metadata": {},
   "source": [
    "**Accuracy** is the proportion of correctly predicted instances (both positive and negative) out of the total predictions.\n",
    "$$ \\textbf{Accuracy} = \\frac{\\text{Number of correct predictions}}{\\text{Total number of predictions}} $$\n",
    "\n",
    "**Precision** is the proportion of correct positive predictions out of all the instances that were predicted as positive.\n",
    "$$ \\textbf{Precision} = \\frac{\\text{True Positives}}{\\text{True Positives} + \\text{False Positives}} $$\n",
    "\n",
    "**Recall (or sensitivity)** is the proportion of correct positive predictions out of all the actual positive instances.\n",
    "$$ \\textbf{Recall} = \\frac{\\text{True Positives}}{\\text{True Positives} + \\text{False Negatives}} $$\n",
    "\n",
    "**F1 Score** is the harmonic mean of precision and recall, providing a balance between the two.\n",
    "$$ \\textbf{F1\\ Score} = 2 \\times \\frac{\\text{Precision} \\times \\text{Recall}}{\\text{Precision} + \\text{Recall}} $$\n"
   ]
  },
  {
   "cell_type": "markdown",
   "id": "5297fe46-72e6-48b2-bfc6-19a187f6f7be",
   "metadata": {},
   "source": [
    "### 1. Random Forest Performance on Test Dataset"
   ]
  },
  {
   "cell_type": "code",
   "execution_count": 28,
   "id": "0d074b42-ab48-43a4-9c25-892542fc0bb7",
   "metadata": {},
   "outputs": [
    {
     "data": {
      "text/html": [
       "<div>\n",
       "<style scoped>\n",
       "    .dataframe tbody tr th:only-of-type {\n",
       "        vertical-align: middle;\n",
       "    }\n",
       "\n",
       "    .dataframe tbody tr th {\n",
       "        vertical-align: top;\n",
       "    }\n",
       "\n",
       "    .dataframe thead th {\n",
       "        text-align: right;\n",
       "    }\n",
       "</style>\n",
       "<table border=\"1\" class=\"dataframe\">\n",
       "  <thead>\n",
       "    <tr style=\"text-align: right;\">\n",
       "      <th></th>\n",
       "      <th>Algorithm</th>\n",
       "      <th>Accuracy</th>\n",
       "      <th>F1 Score</th>\n",
       "      <th>Precision</th>\n",
       "      <th>Recall</th>\n",
       "    </tr>\n",
       "  </thead>\n",
       "  <tbody>\n",
       "    <tr>\n",
       "      <th>0</th>\n",
       "      <td>Random Forest</td>\n",
       "      <td>0.994697</td>\n",
       "      <td>0.954839</td>\n",
       "      <td>0.948718</td>\n",
       "      <td>0.961039</td>\n",
       "    </tr>\n",
       "  </tbody>\n",
       "</table>\n",
       "</div>"
      ],
      "text/plain": [
       "       Algorithm  Accuracy  F1 Score Precision    Recall\n",
       "0  Random Forest  0.994697  0.954839  0.948718  0.961039"
      ]
     },
     "execution_count": 28,
     "metadata": {},
     "output_type": "execute_result"
    }
   ],
   "source": [
    "y_pred = rf.predict(X_test)\n",
    "Accuracy = accuracy_score(y_test, y_pred)\n",
    "F1_Score = f1_score(y_test, y_pred)\n",
    "Precision = precision_score(y_test, y_pred)\n",
    "Recall = recall_score(y_test, y_pred)\n",
    "rf_results_test =  pd.DataFrame(['Random Forest', Accuracy, F1_Score, Precision, Recall]).transpose()\n",
    "rf_results_test.columns = ['Algorithm','Accuracy', 'F1 Score', 'Precision', 'Recall']\n",
    "rf_results_test"
   ]
  },
  {
   "cell_type": "markdown",
   "id": "2ae70bd4-6590-40b6-9484-211f627ce948",
   "metadata": {},
   "source": [
    "### 2. Logistic Regression Performance on Test Dataset"
   ]
  },
  {
   "cell_type": "code",
   "execution_count": 29,
   "id": "11981861-65a9-4604-a99b-c78d1c9930ed",
   "metadata": {},
   "outputs": [
    {
     "data": {
      "text/html": [
       "<div>\n",
       "<style scoped>\n",
       "    .dataframe tbody tr th:only-of-type {\n",
       "        vertical-align: middle;\n",
       "    }\n",
       "\n",
       "    .dataframe tbody tr th {\n",
       "        vertical-align: top;\n",
       "    }\n",
       "\n",
       "    .dataframe thead th {\n",
       "        text-align: right;\n",
       "    }\n",
       "</style>\n",
       "<table border=\"1\" class=\"dataframe\">\n",
       "  <thead>\n",
       "    <tr style=\"text-align: right;\">\n",
       "      <th></th>\n",
       "      <th>Algorithm</th>\n",
       "      <th>Accuracy</th>\n",
       "      <th>F1 Score</th>\n",
       "      <th>Precision</th>\n",
       "      <th>Recall</th>\n",
       "    </tr>\n",
       "  </thead>\n",
       "  <tbody>\n",
       "    <tr>\n",
       "      <th>0</th>\n",
       "      <td>Logistic Regression</td>\n",
       "      <td>0.958586</td>\n",
       "      <td>0.508982</td>\n",
       "      <td>0.825243</td>\n",
       "      <td>0.367965</td>\n",
       "    </tr>\n",
       "  </tbody>\n",
       "</table>\n",
       "</div>"
      ],
      "text/plain": [
       "             Algorithm  Accuracy  F1 Score Precision    Recall\n",
       "0  Logistic Regression  0.958586  0.508982  0.825243  0.367965"
      ]
     },
     "execution_count": 29,
     "metadata": {},
     "output_type": "execute_result"
    }
   ],
   "source": [
    "y_pred = lr.predict(X_test)\n",
    "Accuracy = accuracy_score(y_test, y_pred)\n",
    "F1_Score = f1_score(y_test, y_pred)\n",
    "Precision = precision_score(y_test, y_pred)\n",
    "Recall = recall_score(y_test, y_pred)\n",
    "lr_results_test =  pd.DataFrame(['Logistic Regression', Accuracy, F1_Score, Precision, Recall]).transpose()\n",
    "lr_results_test.columns = ['Algorithm','Accuracy', 'F1 Score', 'Precision', 'Recall']\n",
    "lr_results_test"
   ]
  },
  {
   "cell_type": "markdown",
   "id": "9197cf6f-cbb6-4d34-9c8d-ada1e5e9c467",
   "metadata": {},
   "source": [
    "### 3. K Nearest Neigbors Performance on Test Dataset"
   ]
  },
  {
   "cell_type": "code",
   "execution_count": 30,
   "id": "1d596950-8c44-4e1e-8cd7-4513e11c9295",
   "metadata": {},
   "outputs": [
    {
     "data": {
      "text/html": [
       "<div>\n",
       "<style scoped>\n",
       "    .dataframe tbody tr th:only-of-type {\n",
       "        vertical-align: middle;\n",
       "    }\n",
       "\n",
       "    .dataframe tbody tr th {\n",
       "        vertical-align: top;\n",
       "    }\n",
       "\n",
       "    .dataframe thead th {\n",
       "        text-align: right;\n",
       "    }\n",
       "</style>\n",
       "<table border=\"1\" class=\"dataframe\">\n",
       "  <thead>\n",
       "    <tr style=\"text-align: right;\">\n",
       "      <th></th>\n",
       "      <th>Algorithm</th>\n",
       "      <th>Accuracy</th>\n",
       "      <th>F1 Score</th>\n",
       "      <th>Precision</th>\n",
       "      <th>Recall</th>\n",
       "    </tr>\n",
       "  </thead>\n",
       "  <tbody>\n",
       "    <tr>\n",
       "      <th>0</th>\n",
       "      <td>K Nearest neighbors</td>\n",
       "      <td>0.978283</td>\n",
       "      <td>0.804545</td>\n",
       "      <td>0.84689</td>\n",
       "      <td>0.766234</td>\n",
       "    </tr>\n",
       "  </tbody>\n",
       "</table>\n",
       "</div>"
      ],
      "text/plain": [
       "             Algorithm  Accuracy  F1 Score Precision    Recall\n",
       "0  K Nearest neighbors  0.978283  0.804545   0.84689  0.766234"
      ]
     },
     "execution_count": 30,
     "metadata": {},
     "output_type": "execute_result"
    }
   ],
   "source": [
    "y_pred = knn.predict(X_test)\n",
    "Accuracy =  accuracy_score(y_test, y_pred)\n",
    "F1_Score = f1_score(y_test, y_pred)\n",
    "Precision = precision_score(y_test, y_pred)\n",
    "Recall = recall_score(y_test, y_pred)\n",
    "knn_results_test =  pd.DataFrame(['K Nearest neighbors', Accuracy, F1_Score, Precision, Recall]).transpose()\n",
    "knn_results_test.columns = ['Algorithm','Accuracy', 'F1 Score', 'Precision', 'Recall']\n",
    "knn_results_test"
   ]
  },
  {
   "cell_type": "markdown",
   "id": "7771eacd-ff27-4ddf-9950-82941b7c5023",
   "metadata": {},
   "source": [
    "### Models Comparison"
   ]
  },
  {
   "cell_type": "code",
   "execution_count": 31,
   "id": "29d8d8d2-7cd0-4179-8573-c1c8e2314c22",
   "metadata": {},
   "outputs": [
    {
     "name": "stdout",
     "output_type": "stream",
     "text": [
      "     PERFORMANCE OF DIFFERENT MODELS ON TEST DATA SET\n"
     ]
    },
    {
     "data": {
      "text/html": [
       "<div>\n",
       "<style scoped>\n",
       "    .dataframe tbody tr th:only-of-type {\n",
       "        vertical-align: middle;\n",
       "    }\n",
       "\n",
       "    .dataframe tbody tr th {\n",
       "        vertical-align: top;\n",
       "    }\n",
       "\n",
       "    .dataframe thead th {\n",
       "        text-align: right;\n",
       "    }\n",
       "</style>\n",
       "<table border=\"1\" class=\"dataframe\">\n",
       "  <thead>\n",
       "    <tr style=\"text-align: right;\">\n",
       "      <th></th>\n",
       "      <th>Algorithm</th>\n",
       "      <th>Accuracy</th>\n",
       "      <th>F1 Score</th>\n",
       "      <th>Precision</th>\n",
       "      <th>Recall</th>\n",
       "    </tr>\n",
       "  </thead>\n",
       "  <tbody>\n",
       "    <tr>\n",
       "      <th>0</th>\n",
       "      <td>Random Forest</td>\n",
       "      <td>0.994697</td>\n",
       "      <td>0.954839</td>\n",
       "      <td>0.948718</td>\n",
       "      <td>0.961039</td>\n",
       "    </tr>\n",
       "    <tr>\n",
       "      <th>1</th>\n",
       "      <td>K Nearest neighbors</td>\n",
       "      <td>0.978283</td>\n",
       "      <td>0.804545</td>\n",
       "      <td>0.84689</td>\n",
       "      <td>0.766234</td>\n",
       "    </tr>\n",
       "    <tr>\n",
       "      <th>2</th>\n",
       "      <td>Logistic Regression</td>\n",
       "      <td>0.958586</td>\n",
       "      <td>0.508982</td>\n",
       "      <td>0.825243</td>\n",
       "      <td>0.367965</td>\n",
       "    </tr>\n",
       "  </tbody>\n",
       "</table>\n",
       "</div>"
      ],
      "text/plain": [
       "             Algorithm  Accuracy  F1 Score Precision    Recall\n",
       "0        Random Forest  0.994697  0.954839  0.948718  0.961039\n",
       "1  K Nearest neighbors  0.978283  0.804545   0.84689  0.766234\n",
       "2  Logistic Regression  0.958586  0.508982  0.825243  0.367965"
      ]
     },
     "execution_count": 31,
     "metadata": {},
     "output_type": "execute_result"
    }
   ],
   "source": [
    "print(\"     PERFORMANCE OF DIFFERENT MODELS ON TEST DATA SET\")\n",
    "# Concatenate the dataframes\n",
    "df_models = pd.concat([rf_results_test,knn_results_test,lr_results_test], axis=0) \n",
    "\n",
    "#Reset the index and drop the old index\n",
    "df_models.reset_index(drop=True, inplace=True)\n",
    "\n",
    "#Display the results\n",
    "df_models\n"
   ]
  },
  {
   "cell_type": "code",
   "execution_count": 32,
   "id": "a71b8397-7270-4844-98f2-612445e78aa1",
   "metadata": {},
   "outputs": [
    {
     "data": {
      "image/png": "[encoded data removed]",
      "text/plain": [
       "<Figure size 900x500 with 1 Axes>"
      ]
     },
     "metadata": {},
     "output_type": "display_data"
    }
   ],
   "source": [
    "# Set index to 'Algorithm' for better visualization\n",
    "df_models.set_index('Algorithm', inplace=True)\n",
    "\n",
    "# Plotting the metrics (Accuracy, F1 Score, Precision, Recall) for each model\n",
    "df_models.plot(kind='line', marker='o', figsize=(9,5))\n",
    "\n",
    "# Adding title and labels\n",
    "plt.title('Comparison of Models Performance on Test Data Set', fontsize=14)\n",
    "plt.xlabel('Algorithm', fontsize=12)\n",
    "plt.ylabel('Metric', fontsize=12)\n",
    "\n",
    "# Display the plot with grid\n",
    "plt.grid(True)\n",
    "plt.show()\n"
   ]
  },
  {
   "cell_type": "markdown",
   "id": "3013d3c3-3a6e-4302-a482-39f207f9548a",
   "metadata": {},
   "source": [
    "In this project, where circuit failure is a critical issue, the primary focus should be on **recall** to ensure that the model is highly sensitive in detecting failures. While the **F1-Score** provides a balance between recall and precision, minimizing **false negatives** (missed failures) is more important than minimizing **false positives** (false alarms). This approach helps predict failures in a timely manner, reducing the risk of undetected critical failures.\n",
    "\n",
    "The **Random Forest** model emerges as the best performer with a recall of **95.67%**, indicating that it successfully detects most circuit failures. This aligns well with the project’s goal of preventing dangerous failures by providing both high sensitivity and a good balance between precision and recall.\n",
    "\n",
    "On the other hand, while **K-Nearest Neighbors (KNN)** performs adequately in terms of accuracy and precision, its lower recall of **76.62%** makes it less effective in identifying all failures. This limitation could lead to missed failure predictions, which poses a risk in this context.\n",
    "\n",
    "Finally, from the observed metrics, the **Logistic Regression** model proves unsuitable for this project. Its **low recall** means it fails to detect the majority of failures, making it a risky option for predicting dangerous circuit issues.\n"
   ]
  },
  {
   "cell_type": "markdown",
   "id": "08e6ccf0-4192-4132-8948-16215e2b035b",
   "metadata": {},
   "source": [
    "# 6. Model Interpretation"
   ]
  },
  {
   "cell_type": "markdown",
   "id": "096d73fa-80b7-468e-bec1-4d821b7faf6b",
   "metadata": {},
   "source": [
    "### Factors Influencing the Model's Predictions"
   ]
  },
  {
   "cell_type": "markdown",
   "id": "0a67e89b-3b05-4b6a-ba6e-50ed7a9e100a",
   "metadata": {},
   "source": [
    "\n",
    "  - **Feature Importance**: Voltage readings (V1, V2, V3, V4, V5), temperature values (T1, T2), and radiation rate strongly influence the model. Deviations from expected voltage and high temperatures, especially under high radiation rates, are key predictors of failure.\n",
    "  - **Interactions Between Features**: Combined effects of voltage, temperature, and radiation significantly impact the failure risk.\n",
    "  - **Imbalanced Data**: More \"OK\" instances than failures can bias the model toward predicting non-failures, affecting its ability to detect failures."
   ]
  },
  {
   "cell_type": "markdown",
   "id": "091eaac3-ae6b-4baa-966e-53cd72701dc7",
   "metadata": {},
   "source": [
    "### Challenges Encountered During the Modelling Process"
   ]
  },
  {
   "cell_type": "markdown",
   "id": "5dfb191d-c4c2-4c15-a493-58053edf554c",
   "metadata": {},
   "source": [
    "  - **Class Imbalance**: The majority of non-failure instances can lead to poor recall for failures. Addressed using **class weighting**.\n",
    "  - **Feature Scaling**: Different scales for voltage, temperature, and radiation required **scaling** (MinMaxScaler) to ensure equal feature contribution.\n",
    "\n"
   ]
  }
 ],
 "metadata": {
  "kernelspec": {
   "display_name": "Python 3 (ipykernel)",
   "language": "python",
   "name": "python3"
  },
  "language_info": {
   "codemirror_mode": {
    "name": "ipython",
    "version": 3
   },
   "file_extension": ".py",
   "mimetype": "text/x-python",
   "name": "python",
   "nbconvert_exporter": "python",
   "pygments_lexer": "ipython3",
   "version": "3.12.0"
  }
 },
 "nbformat": 4,
 "nbformat_minor": 5
}
